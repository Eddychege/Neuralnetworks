{
  "nbformat": 4,
  "nbformat_minor": 0,
  "metadata": {
    "colab": {
      "provenance": [],
      "authorship_tag": "ABX9TyPIHPYYsl81Y5IPL7SG9u+6",
      "include_colab_link": true
    },
    "kernelspec": {
      "name": "python3",
      "display_name": "Python 3"
    },
    "language_info": {
      "name": "python"
    }
  },
  "cells": [
    {
      "cell_type": "markdown",
      "metadata": {
        "id": "view-in-github",
        "colab_type": "text"
      },
      "source": [
        "<a href=\"https://colab.research.google.com/github/Eddychege/Neuralnetworks/blob/main/lecture7.ipynb\" target=\"_parent\"><img src=\"https://colab.research.google.com/assets/colab-badge.svg\" alt=\"Open In Colab\"/></a>"
      ]
    },
    {
      "cell_type": "code",
      "source": [
        "import numpy as np"
      ],
      "metadata": {
        "id": "6s6-zLWkoqA7"
      },
      "execution_count": 1,
      "outputs": []
    },
    {
      "cell_type": "code",
      "source": [
        "class Layer_Dense:\n",
        "  def __init__(self,n_inputs,n_neurons):\n",
        "    self.weights = 0.01 * np.random.randn(n_inputs,n_neurons)\n",
        "    self.biases = np.zeros((1,n_neurons))\n",
        "\n",
        "  def forward(self,inputs):\n",
        "    self.output = np.dot(inputs,self.weights) + self.biases"
      ],
      "metadata": {
        "id": "z1T43VCHosdj"
      },
      "execution_count": 13,
      "outputs": []
    },
    {
      "cell_type": "code",
      "source": [
        "class ACTIVATION_RELU:\n",
        "  def forward(self,inputs):\n",
        "    self.output = np.maximum(0,inputs)"
      ],
      "metadata": {
        "id": "VKyTT3Lyp1zh"
      },
      "execution_count": 14,
      "outputs": []
    },
    {
      "cell_type": "code",
      "source": [
        "class ACTIVATION_SOFTMAX:\n",
        "  def forward(self,inputs):\n",
        "    exp_values = np.exp(inputs - np.max(inputs, axis=1, keepdims=True))\n",
        "    probabilities = exp_values / np.sum(exp_values, axis=1, keepdims=True)\n",
        "    self.output = probabilities"
      ],
      "metadata": {
        "id": "jFJvWtR6qAjQ"
      },
      "execution_count": 15,
      "outputs": []
    },
    {
      "cell_type": "code",
      "source": [
        "import nnfs\n",
        "from nnfs.datasets import spiral_data\n",
        "nnfs.init()"
      ],
      "metadata": {
        "id": "ZsaklTCEq4wM"
      },
      "execution_count": 16,
      "outputs": []
    },
    {
      "cell_type": "code",
      "source": [
        "!pip install nnfs"
      ],
      "metadata": {
        "colab": {
          "base_uri": "https://localhost:8080/"
        },
        "id": "k7JJrQTprChf",
        "outputId": "be85b626-bcf5-4b3a-b1c2-3c225277681e"
      },
      "execution_count": 17,
      "outputs": [
        {
          "output_type": "stream",
          "name": "stdout",
          "text": [
            "Requirement already satisfied: nnfs in /usr/local/lib/python3.11/dist-packages (0.5.1)\n",
            "Requirement already satisfied: numpy in /usr/local/lib/python3.11/dist-packages (from nnfs) (2.0.2)\n"
          ]
        }
      ]
    },
    {
      "cell_type": "code",
      "execution_count": 19,
      "metadata": {
        "colab": {
          "base_uri": "https://localhost:8080/"
        },
        "id": "0OyItlXgkN3N",
        "outputId": "7fa57c2d-3efd-4ba4-95b0-15ba9b3d8610"
      },
      "outputs": [
        {
          "output_type": "stream",
          "name": "stdout",
          "text": [
            "[[0.33333334 0.33333334 0.33333334]\n",
            " [0.33333355 0.33333322 0.3333332 ]\n",
            " [0.33333382 0.33333313 0.3333331 ]\n",
            " [0.3333341  0.33333302 0.33333293]\n",
            " [0.33333433 0.3333329  0.33333278]]\n"
          ]
        }
      ],
      "source": [
        " # Entire foward pass (no loss )\n",
        " X,y = spiral_data(samples=100, classes=3)\n",
        "\n",
        " dense1 = Layer_Dense(2,3)\n",
        " activation1 = ACTIVATION_RELU()\n",
        " dense2 = Layer_Dense(3,3)\n",
        " activation2 = ACTIVATION_SOFTMAX()\n",
        "\n",
        " dense1.forward(X)\n",
        " activation1.forward(dense1.output)\n",
        " dense2.forward(activation1.output)\n",
        " activation2.forward(dense2.output)\n",
        "\n",
        " print(activation2.output[:5])\n"
      ]
    },
    {
      "cell_type": "code",
      "source": [],
      "metadata": {
        "id": "JKtxRjAVrH79"
      },
      "execution_count": null,
      "outputs": []
    }
  ]
}