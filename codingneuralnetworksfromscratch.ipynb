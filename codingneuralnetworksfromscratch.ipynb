{
  "nbformat": 4,
  "nbformat_minor": 0,
  "metadata": {
    "colab": {
      "provenance": [],
      "authorship_tag": "ABX9TyMS95jjxlprwC6JMCfj2KnW",
      "include_colab_link": true
    },
    "kernelspec": {
      "name": "python3",
      "display_name": "Python 3"
    },
    "language_info": {
      "name": "python"
    }
  },
  "cells": [
    {
      "cell_type": "markdown",
      "metadata": {
        "id": "view-in-github",
        "colab_type": "text"
      },
      "source": [
        "<a href=\"https://colab.research.google.com/github/Eddychege/Neuralnetworks/blob/main/codingneuralnetworksfromscratch.ipynb\" target=\"_parent\"><img src=\"https://colab.research.google.com/assets/colab-badge.svg\" alt=\"Open In Colab\"/></a>"
      ]
    },
    {
      "cell_type": "code",
      "execution_count": 3,
      "metadata": {
        "colab": {
          "base_uri": "https://localhost:8080/"
        },
        "id": "CW0YsDAnMqS8",
        "outputId": "9d9d6356-73e1-4382-a3ea-e63ec9d66040"
      },
      "outputs": [
        {
          "output_type": "stream",
          "name": "stdout",
          "text": [
            "73.5\n"
          ]
        }
      ],
      "source": [
        "# Neurons\n",
        "\n",
        "import numpy as np\n",
        "\n",
        "inputs = [8.0,6.0,8.5,6.5]\n",
        "weights = [1.0,2.0,3.0,4.0]\n",
        "bias = 2.0\n",
        "\n",
        "inputs_array = np.array(inputs)\n",
        "weights_array = np.array(weights)\n",
        "\n",
        "outputs = np.dot(weights_array, inputs_array) + bias\n",
        "print(outputs)"
      ]
    },
    {
      "cell_type": "code",
      "source": [
        "# Neural layers\n",
        "\n",
        "import numpy as np\n",
        "\n",
        "inputs = [8.0,6.0,8.5,6.5]\n",
        "weights = [[1.0,2.0,3.0,4.0],\n",
        "          [5.0,6.0,7.0,8.0],\n",
        "          [9.0,10.0,11.0,12.0]]\n",
        "biases = [2.0,3.0,4.0]\n",
        "\n",
        "inputs_array = np.array(inputs)\n",
        "weights_array = np.array(weights)\n",
        "biases_array = np.array(biases)\n",
        "\n",
        "layered_outputs = np.dot(inputs_array, weights_array.T) + biases_array\n",
        "print(layered_outputs)\n",
        "layered_outputs = np.dot(weights_array, inputs_array) + biases_array\n",
        "print(layered_outputs)"
      ],
      "metadata": {
        "colab": {
          "base_uri": "https://localhost:8080/"
        },
        "id": "AyC8rDmwNlpl",
        "outputId": "150ba78a-a0de-4c32-cb09-588138d3b38e"
      },
      "execution_count": 5,
      "outputs": [
        {
          "output_type": "stream",
          "name": "stdout",
          "text": [
            "[ 73.5 190.5 307.5]\n",
            "[ 73.5 190.5 307.5]\n"
          ]
        }
      ]
    },
    {
      "cell_type": "code",
      "source": [
        "# Batch layers and data\n",
        "\n",
        "inputs = [[8.0,6.0,8.5,6.5],\n",
        "          [9.0,7.0,9.5,7.5],\n",
        "          [10.0,8.0,10.5,8.5]]\n",
        "weights = [[1.0,2.0,3.0,4.0],\n",
        "          [5.0,6.0,7.0,8.0],\n",
        "          [9.0,10.0,11.0,12.0]]\n",
        "biases =  [2.0,3.0,4.0]\n",
        "\n",
        "inputs_array = np.array(inputs)\n",
        "weights_array = np.array(weights)\n",
        "biases_array = np.array(biases)\n",
        "\n",
        "batch_layer_outputs = np.dot(inputs_array, weights_array.T) + biases_array\n",
        "print(batch_layer_outputs)\n",
        "batch_layer_outputs = np.dot(weights_array, inputs_array.T) + biases_array\n",
        "print(batch_layer_outputs)"
      ],
      "metadata": {
        "colab": {
          "base_uri": "https://localhost:8080/"
        },
        "id": "d4PWuKVwShVw",
        "outputId": "a01cec1f-dd5f-4c50-a4e5-9265d2d4a273"
      },
      "execution_count": 6,
      "outputs": [
        {
          "output_type": "stream",
          "name": "stdout",
          "text": [
            "[[ 73.5 190.5 307.5]\n",
            " [ 83.5 216.5 349.5]\n",
            " [ 93.5 242.5 391.5]]\n",
            "[[ 73.5  84.5  95.5]\n",
            " [189.5 216.5 243.5]\n",
            " [305.5 348.5 391.5]]\n"
          ]
        }
      ]
    },
    {
      "cell_type": "code",
      "source": [],
      "metadata": {
        "id": "2eiuo-ujV1zg"
      },
      "execution_count": null,
      "outputs": []
    }
  ]
}